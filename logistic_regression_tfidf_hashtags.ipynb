{
 "cells": [
  {
   "cell_type": "code",
   "execution_count": 1,
   "id": "1bd43828",
   "metadata": {},
   "outputs": [],
   "source": [
    "import pandas as pd\n",
    "import seaborn as sns\n",
    "import numpy as np\n",
    "import matplotlib.pyplot as plt\n",
    "\n",
    "import nltk #language processing\n",
    "from nltk.stem import WordNetLemmatizer\n",
    "from nltk.corpus import wordnet\n",
    "from nltk.corpus import stopwords\n",
    "\n",
    "from sklearn.linear_model import LogisticRegressionCV\n",
    "\n",
    "#import re\n",
    "#import emoji\n",
    "\n",
    "path = '/Users/nesli/Desktop/SPRING2022/DSCC465/Kaggle_istanbul/'  \n",
    "\n",
    "import os\n",
    "os.chdir(path)\n",
    "\n",
    "\n",
    "data_train = pd.read_csv(path+\"congressional_tweet_training_data.csv\",names=None)\n",
    "data_test= pd.read_csv(\"congressional_tweet_test_data.csv\",names=None)\n",
    "\n",
    "import random\n",
    "random.seed(465) #seed  "
   ]
  },
  {
   "cell_type": "code",
   "execution_count": 2,
   "id": "bb1dc678",
   "metadata": {},
   "outputs": [],
   "source": [
    "data_train['party_class']=data_train['party_id'].apply(lambda x: 0 if x=='D' else 1)"
   ]
  },
  {
   "cell_type": "code",
   "execution_count": 3,
   "id": "bc8c41dd",
   "metadata": {},
   "outputs": [
    {
     "data": {
      "text/html": [
       "<div>\n",
       "<style scoped>\n",
       "    .dataframe tbody tr th:only-of-type {\n",
       "        vertical-align: middle;\n",
       "    }\n",
       "\n",
       "    .dataframe tbody tr th {\n",
       "        vertical-align: top;\n",
       "    }\n",
       "\n",
       "    .dataframe thead th {\n",
       "        text-align: right;\n",
       "    }\n",
       "</style>\n",
       "<table border=\"1\" class=\"dataframe\">\n",
       "  <thead>\n",
       "    <tr style=\"text-align: right;\">\n",
       "      <th></th>\n",
       "      <th>favorite_count</th>\n",
       "      <th>full_text</th>\n",
       "      <th>hashtags</th>\n",
       "      <th>retweet_count</th>\n",
       "      <th>year</th>\n",
       "      <th>party_id</th>\n",
       "      <th>party_class</th>\n",
       "    </tr>\n",
       "  </thead>\n",
       "  <tbody>\n",
       "    <tr>\n",
       "      <th>0</th>\n",
       "      <td>0</td>\n",
       "      <td>b\"RT @KUSINews: One of our longtime viewers wa...</td>\n",
       "      <td>KUSI</td>\n",
       "      <td>10</td>\n",
       "      <td>2017.0</td>\n",
       "      <td>R</td>\n",
       "      <td>1</td>\n",
       "    </tr>\n",
       "    <tr>\n",
       "      <th>1</th>\n",
       "      <td>258</td>\n",
       "      <td>b\"Today I'm urging the @CDCgov to immediately ...</td>\n",
       "      <td>Coronavirus</td>\n",
       "      <td>111</td>\n",
       "      <td>2020.0</td>\n",
       "      <td>R</td>\n",
       "      <td>1</td>\n",
       "    </tr>\n",
       "    <tr>\n",
       "      <th>2</th>\n",
       "      <td>0</td>\n",
       "      <td>b'Tomorrow, #MO03 seniors graduate from Calvar...</td>\n",
       "      <td>MO03</td>\n",
       "      <td>2</td>\n",
       "      <td>2014.0</td>\n",
       "      <td>R</td>\n",
       "      <td>1</td>\n",
       "    </tr>\n",
       "    <tr>\n",
       "      <th>3</th>\n",
       "      <td>9</td>\n",
       "      <td>b'Congrats to #TeamUSA and Canton Native @JGre...</td>\n",
       "      <td>TeamUSA WorldJuniors</td>\n",
       "      <td>3</td>\n",
       "      <td>2017.0</td>\n",
       "      <td>R</td>\n",
       "      <td>1</td>\n",
       "    </tr>\n",
       "    <tr>\n",
       "      <th>4</th>\n",
       "      <td>3</td>\n",
       "      <td>b'Pleased to support @amergateways at their Ju...</td>\n",
       "      <td>ImmigrantHeritageMonth</td>\n",
       "      <td>3</td>\n",
       "      <td>2019.0</td>\n",
       "      <td>D</td>\n",
       "      <td>0</td>\n",
       "    </tr>\n",
       "    <tr>\n",
       "      <th>...</th>\n",
       "      <td>...</td>\n",
       "      <td>...</td>\n",
       "      <td>...</td>\n",
       "      <td>...</td>\n",
       "      <td>...</td>\n",
       "      <td>...</td>\n",
       "      <td>...</td>\n",
       "    </tr>\n",
       "    <tr>\n",
       "      <th>592798</th>\n",
       "      <td>3</td>\n",
       "      <td>b'This time, it focused on careers in #publics...</td>\n",
       "      <td>publicservice publicsafety</td>\n",
       "      <td>0</td>\n",
       "      <td>2017.0</td>\n",
       "      <td>R</td>\n",
       "      <td>1</td>\n",
       "    </tr>\n",
       "    <tr>\n",
       "      <th>592799</th>\n",
       "      <td>5</td>\n",
       "      <td>b'.#StormyDaniels, #MichaelWolfe, #JamesComey ...</td>\n",
       "      <td>StormyDaniels MichaelWolfe JamesComey</td>\n",
       "      <td>1</td>\n",
       "      <td>2018.0</td>\n",
       "      <td>R</td>\n",
       "      <td>1</td>\n",
       "    </tr>\n",
       "    <tr>\n",
       "      <th>592800</th>\n",
       "      <td>33</td>\n",
       "      <td>b'@NRDems The American people deserve the trut...</td>\n",
       "      <td>CultureOfCorruption</td>\n",
       "      <td>14</td>\n",
       "      <td>2020.0</td>\n",
       "      <td>D</td>\n",
       "      <td>0</td>\n",
       "    </tr>\n",
       "    <tr>\n",
       "      <th>592801</th>\n",
       "      <td>4</td>\n",
       "      <td>b'Only 2 weeks left to submit your #app to the...</td>\n",
       "      <td>app copolitics CAC16 HouseOfCode co06</td>\n",
       "      <td>3</td>\n",
       "      <td>2016.0</td>\n",
       "      <td>R</td>\n",
       "      <td>1</td>\n",
       "    </tr>\n",
       "    <tr>\n",
       "      <th>592802</th>\n",
       "      <td>155</td>\n",
       "      <td>b'The #MuslimBan remains as un-American and of...</td>\n",
       "      <td>MuslimBan</td>\n",
       "      <td>48</td>\n",
       "      <td>2020.0</td>\n",
       "      <td>D</td>\n",
       "      <td>0</td>\n",
       "    </tr>\n",
       "  </tbody>\n",
       "</table>\n",
       "<p>592803 rows × 7 columns</p>\n",
       "</div>"
      ],
      "text/plain": [
       "        favorite_count                                          full_text  \\\n",
       "0                    0  b\"RT @KUSINews: One of our longtime viewers wa...   \n",
       "1                  258  b\"Today I'm urging the @CDCgov to immediately ...   \n",
       "2                    0  b'Tomorrow, #MO03 seniors graduate from Calvar...   \n",
       "3                    9  b'Congrats to #TeamUSA and Canton Native @JGre...   \n",
       "4                    3  b'Pleased to support @amergateways at their Ju...   \n",
       "...                ...                                                ...   \n",
       "592798               3  b'This time, it focused on careers in #publics...   \n",
       "592799               5  b'.#StormyDaniels, #MichaelWolfe, #JamesComey ...   \n",
       "592800              33  b'@NRDems The American people deserve the trut...   \n",
       "592801               4  b'Only 2 weeks left to submit your #app to the...   \n",
       "592802             155  b'The #MuslimBan remains as un-American and of...   \n",
       "\n",
       "                                     hashtags  retweet_count    year party_id  \\\n",
       "0                                        KUSI             10  2017.0        R   \n",
       "1                                 Coronavirus            111  2020.0        R   \n",
       "2                                        MO03              2  2014.0        R   \n",
       "3                        TeamUSA WorldJuniors              3  2017.0        R   \n",
       "4                      ImmigrantHeritageMonth              3  2019.0        D   \n",
       "...                                       ...            ...     ...      ...   \n",
       "592798             publicservice publicsafety              0  2017.0        R   \n",
       "592799  StormyDaniels MichaelWolfe JamesComey              1  2018.0        R   \n",
       "592800                    CultureOfCorruption             14  2020.0        D   \n",
       "592801  app copolitics CAC16 HouseOfCode co06              3  2016.0        R   \n",
       "592802                              MuslimBan             48  2020.0        D   \n",
       "\n",
       "        party_class  \n",
       "0                 1  \n",
       "1                 1  \n",
       "2                 1  \n",
       "3                 1  \n",
       "4                 0  \n",
       "...             ...  \n",
       "592798            1  \n",
       "592799            1  \n",
       "592800            0  \n",
       "592801            1  \n",
       "592802            0  \n",
       "\n",
       "[592803 rows x 7 columns]"
      ]
     },
     "execution_count": 3,
     "metadata": {},
     "output_type": "execute_result"
    }
   ],
   "source": [
    "data_train.dropna(subset=['full_text'],inplace=True) #First, I drop the rows with NA in the text column\n",
    "data_train"
   ]
  },
  {
   "cell_type": "code",
   "execution_count": 4,
   "id": "b0db05ad",
   "metadata": {},
   "outputs": [],
   "source": [
    "data_train=data_train.reset_index(drop=True) #to fix the indices"
   ]
  },
  {
   "cell_type": "code",
   "execution_count": 5,
   "id": "81915ddb",
   "metadata": {},
   "outputs": [],
   "source": [
    "data_test['party_class']=data_test['party'].apply(lambda x: 0 if x=='D' else 1)"
   ]
  },
  {
   "cell_type": "code",
   "execution_count": 6,
   "id": "c729f5e2",
   "metadata": {},
   "outputs": [],
   "source": [
    "Id=data_test['Id']"
   ]
  },
  {
   "cell_type": "code",
   "execution_count": 7,
   "id": "b63c780f",
   "metadata": {},
   "outputs": [],
   "source": [
    "text=data_train['hashtags'] \n",
    "text2=data_test['hashtags'] "
   ]
  },
  {
   "cell_type": "code",
   "execution_count": 8,
   "id": "94b3fbd5",
   "metadata": {},
   "outputs": [
    {
     "data": {
      "text/plain": [
       "0                           KUSI\n",
       "1                    Coronavirus\n",
       "2                           MO03\n",
       "3           TeamUSA WorldJuniors\n",
       "4         ImmigrantHeritageMonth\n",
       "                   ...          \n",
       "264995                ExtendCHIP\n",
       "264996                 ObamaCare\n",
       "264997            MissTeenUSA CT\n",
       "264998                     mosen\n",
       "264999           ConstitutionDay\n",
       "Name: hashtags, Length: 857803, dtype: object"
      ]
     },
     "metadata": {},
     "output_type": "display_data"
    }
   ],
   "source": [
    "frames = [text, text2]\n",
    "  \n",
    "result = pd.concat(frames)\n",
    "display(result)"
   ]
  },
  {
   "cell_type": "code",
   "execution_count": 9,
   "id": "df6948bf",
   "metadata": {},
   "outputs": [],
   "source": [
    "from sklearn.feature_extraction.text import TfidfVectorizer\n",
    "\n",
    "tfidf=TfidfVectorizer()\n",
    "X=tfidf.fit_transform(result)"
   ]
  },
  {
   "cell_type": "code",
   "execution_count": 10,
   "id": "7adca3c3",
   "metadata": {},
   "outputs": [],
   "source": [
    "X_train=X[0:592803]\n",
    "y_train=data_train['party_class']\n",
    "X_test=X[592803:857803]\n",
    "y_test=data_test['party_class']"
   ]
  },
  {
   "cell_type": "code",
   "execution_count": 11,
   "id": "e94729d3",
   "metadata": {},
   "outputs": [],
   "source": [
    "# Following from [5] without cross validation because it takes so much time\n",
    "\n",
    "elastic_net_classifier = LogisticRegressionCV(cv=10, penalty='elasticnet', solver='saga', l1_ratios=0.1*np.ones(np.shape(X_train)[1]))"
   ]
  },
  {
   "cell_type": "code",
   "execution_count": null,
   "id": "64235596",
   "metadata": {},
   "outputs": [],
   "source": [
    "# Fit a model to the training data\n",
    "\n",
    "elastic_net_classifier.fit(X_train, y_train)"
   ]
  },
  {
   "cell_type": "code",
   "execution_count": null,
   "id": "72696618",
   "metadata": {},
   "outputs": [],
   "source": [
    "y_test=elastic_net_classifier.predict(X_test)"
   ]
  },
  {
   "cell_type": "code",
   "execution_count": null,
   "id": "a66f1f2f",
   "metadata": {},
   "outputs": [],
   "source": [
    "y_test"
   ]
  },
  {
   "cell_type": "code",
   "execution_count": null,
   "id": "e0c3f553",
   "metadata": {},
   "outputs": [],
   "source": [
    "y_test.to_csv('logreg_tfidf_hash_y_test_01.csv')"
   ]
  },
  {
   "cell_type": "code",
   "execution_count": null,
   "id": "a140b9dc",
   "metadata": {},
   "outputs": [],
   "source": [
    "y_test=pd.DataFrame(data=y_test, columns=['party'])\n",
    "y_test['party']=y_test['party'].apply(lambda x: 'D' if x==0 else 'R')\n",
    "y_test.insert(0, \"Id\", Id)"
   ]
  },
  {
   "cell_type": "code",
   "execution_count": null,
   "id": "296fcc34",
   "metadata": {},
   "outputs": [],
   "source": [
    "y_test"
   ]
  },
  {
   "cell_type": "code",
   "execution_count": null,
   "id": "7da00fff",
   "metadata": {},
   "outputs": [],
   "source": [
    "y_test.to_csv('logreg_tfidf_hash_y_test.csv')"
   ]
  },
  {
   "cell_type": "markdown",
   "id": "14f1af3f",
   "metadata": {},
   "source": [
    "## References\n",
    "\n",
    "[1] https://stackoverflow.com/questions/66787845/how-to-perform-elastic-net-for-a-classification-problem"
   ]
  },
  {
   "cell_type": "code",
   "execution_count": null,
   "id": "ccb1b98e",
   "metadata": {},
   "outputs": [],
   "source": []
  },
  {
   "cell_type": "code",
   "execution_count": null,
   "id": "1d300773",
   "metadata": {},
   "outputs": [],
   "source": []
  },
  {
   "cell_type": "code",
   "execution_count": null,
   "id": "28b6232d",
   "metadata": {},
   "outputs": [],
   "source": []
  },
  {
   "cell_type": "markdown",
   "id": "3b7201da",
   "metadata": {},
   "source": [
    "#### "
   ]
  }
 ],
 "metadata": {
  "kernelspec": {
   "display_name": "Python 3 (ipykernel)",
   "language": "python",
   "name": "python3"
  },
  "language_info": {
   "codemirror_mode": {
    "name": "ipython",
    "version": 3
   },
   "file_extension": ".py",
   "mimetype": "text/x-python",
   "name": "python",
   "nbconvert_exporter": "python",
   "pygments_lexer": "ipython3",
   "version": "3.8.11"
  }
 },
 "nbformat": 4,
 "nbformat_minor": 5
}
