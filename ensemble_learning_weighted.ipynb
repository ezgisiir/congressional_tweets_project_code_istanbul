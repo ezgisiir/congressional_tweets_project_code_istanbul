{
 "cells": [
  {
   "cell_type": "markdown",
   "id": "a3bd9b3f",
   "metadata": {},
   "source": [
    "# Weighted Average of the Models with Ensemble Learning"
   ]
  },
  {
   "cell_type": "markdown",
   "id": "b4d96fa6",
   "metadata": {},
   "source": [
    "Here, we apply an ensemble learning method where we take a weighted average of all the y_test values returned by our different models with the weight being the accuracy returned by the Kaggle competition. [1]\n",
    "\n",
    "This notebook is also a summary of all the models that we could successfully run."
   ]
  },
  {
   "cell_type": "code",
   "execution_count": 1,
   "id": "2d40fe8b",
   "metadata": {},
   "outputs": [],
   "source": [
    "import pandas as pd\n",
    "import seaborn as sns\n",
    "import numpy as np\n",
    "import matplotlib.pyplot as plt\n",
    "\n",
    "import nltk #language processing\n",
    "from nltk.stem import WordNetLemmatizer\n",
    "from nltk.corpus import wordnet\n",
    "from nltk.corpus import stopwords\n",
    "\n",
    "from sklearn.linear_model import LogisticRegressionCV\n",
    "\n",
    "#import re\n",
    "#import emoji\n",
    "\n",
    "path = '/Users/nesli/Desktop/SPRING2022/DSCC465/Kaggle_istanbul/'  \n",
    "\n",
    "import os\n",
    "os.chdir(path)\n",
    "\n",
    "import random\n",
    "random.seed(465) #seed  "
   ]
  },
  {
   "cell_type": "code",
   "execution_count": 2,
   "id": "244462fd",
   "metadata": {},
   "outputs": [],
   "source": [
    "accuracy_list=list()"
   ]
  },
  {
   "cell_type": "markdown",
   "id": "2a0c3383",
   "metadata": {},
   "source": [
    "## SVM with tfidf in svm.ipynb with accuracy 0.85501"
   ]
  },
  {
   "cell_type": "code",
   "execution_count": 3,
   "id": "6de098f2",
   "metadata": {},
   "outputs": [],
   "source": [
    "accuracy=0.85501"
   ]
  },
  {
   "cell_type": "code",
   "execution_count": 4,
   "id": "a24c03fd",
   "metadata": {},
   "outputs": [],
   "source": [
    "accuracy_list.append(accuracy)"
   ]
  },
  {
   "cell_type": "code",
   "execution_count": 5,
   "id": "077f54e5",
   "metadata": {},
   "outputs": [
    {
     "data": {
      "text/plain": [
       "0     0.85501\n",
       "1     0.00000\n",
       "2     0.00000\n",
       "3     0.85501\n",
       "4     0.85501\n",
       "       ...   \n",
       "95    0.85501\n",
       "96    0.85501\n",
       "97    0.00000\n",
       "98    0.85501\n",
       "99    0.00000\n",
       "Name: party, Length: 100, dtype: float64"
      ]
     },
     "execution_count": 5,
     "metadata": {},
     "output_type": "execute_result"
    }
   ],
   "source": [
    "pd.read_csv('svm_y_test_01.csv')['party'][0:100]*accuracy"
   ]
  },
  {
   "cell_type": "code",
   "execution_count": 6,
   "id": "6b9f8b1b",
   "metadata": {},
   "outputs": [],
   "source": [
    "d1=pd.read_csv('svm_y_test_01.csv')['party']*accuracy"
   ]
  },
  {
   "cell_type": "markdown",
   "id": "38451af5",
   "metadata": {},
   "source": [
    "## SVM with tfidf on full_text column in svm_tfidf.ipynb with accuracy=0.89122"
   ]
  },
  {
   "cell_type": "code",
   "execution_count": 7,
   "id": "e0c91f68",
   "metadata": {},
   "outputs": [],
   "source": [
    "accuracy=0.89122"
   ]
  },
  {
   "cell_type": "code",
   "execution_count": 8,
   "id": "d72e75e9",
   "metadata": {},
   "outputs": [],
   "source": [
    "accuracy_list.append(accuracy)"
   ]
  },
  {
   "cell_type": "code",
   "execution_count": 9,
   "id": "55394008",
   "metadata": {},
   "outputs": [],
   "source": [
    "d2=pd.read_csv('svm_tfidf_y_test_01.csv')['party']*accuracy"
   ]
  },
  {
   "cell_type": "markdown",
   "id": "912da2fe",
   "metadata": {},
   "source": [
    "## Naive Bayes with hashtags"
   ]
  },
  {
   "cell_type": "code",
   "execution_count": 10,
   "id": "0be845c7",
   "metadata": {},
   "outputs": [],
   "source": [
    "accuracy=0.85547"
   ]
  },
  {
   "cell_type": "code",
   "execution_count": 11,
   "id": "b4dec207",
   "metadata": {},
   "outputs": [],
   "source": [
    "accuracy_list.append(accuracy)"
   ]
  },
  {
   "cell_type": "code",
   "execution_count": 12,
   "id": "9e7be080",
   "metadata": {},
   "outputs": [],
   "source": [
    "d3=pd.read_csv('ytest_naivebayes_hashtag_istanbul.csv')*accuracy"
   ]
  },
  {
   "cell_type": "markdown",
   "id": "8111902a",
   "metadata": {},
   "source": [
    "## Naive Bayes with full_text"
   ]
  },
  {
   "cell_type": "code",
   "execution_count": 13,
   "id": "3bbb7fad",
   "metadata": {},
   "outputs": [],
   "source": [
    "accuracy=0.84228"
   ]
  },
  {
   "cell_type": "code",
   "execution_count": 14,
   "id": "06139f2a",
   "metadata": {},
   "outputs": [],
   "source": [
    "accuracy_list.append(accuracy)"
   ]
  },
  {
   "cell_type": "code",
   "execution_count": 15,
   "id": "5eb1c392",
   "metadata": {},
   "outputs": [],
   "source": [
    "d4=pd.read_csv('naivebayes_fulltext_ytest_01.csv')*accuracy"
   ]
  },
  {
   "cell_type": "markdown",
   "id": "f254584f",
   "metadata": {},
   "source": [
    "## Naive Bayes with clean_text"
   ]
  },
  {
   "cell_type": "code",
   "execution_count": 16,
   "id": "3502fa1b",
   "metadata": {},
   "outputs": [],
   "source": [
    "accuracy=0.84005"
   ]
  },
  {
   "cell_type": "code",
   "execution_count": 17,
   "id": "005543b9",
   "metadata": {},
   "outputs": [],
   "source": [
    "accuracy_list.append(accuracy)"
   ]
  },
  {
   "cell_type": "code",
   "execution_count": 18,
   "id": "21da222f",
   "metadata": {},
   "outputs": [],
   "source": [
    "d5=pd.read_csv('naivebayes_clean_text_ytest_01.csv')*accuracy"
   ]
  },
  {
   "cell_type": "markdown",
   "id": "5dab0403",
   "metadata": {},
   "source": [
    "## Weighted Average"
   ]
  },
  {
   "cell_type": "code",
   "execution_count": 19,
   "id": "bf7a912e",
   "metadata": {},
   "outputs": [
    {
     "data": {
      "text/plain": [
       "4.2840300000000004"
      ]
     },
     "execution_count": 19,
     "metadata": {},
     "output_type": "execute_result"
    }
   ],
   "source": [
    "np.sum(accuracy_list)"
   ]
  },
  {
   "cell_type": "code",
   "execution_count": 20,
   "id": "d33f3d48",
   "metadata": {},
   "outputs": [
    {
     "data": {
      "text/plain": [
       "0     1.74623\n",
       "1     0.00000\n",
       "2     0.00000\n",
       "3     1.74623\n",
       "4     1.74623\n",
       "       ...   \n",
       "95    1.74623\n",
       "96    1.74623\n",
       "97    0.00000\n",
       "98    1.74623\n",
       "99    0.00000\n",
       "Name: party, Length: 100, dtype: float64"
      ]
     },
     "execution_count": 20,
     "metadata": {},
     "output_type": "execute_result"
    }
   ],
   "source": [
    "d1[0:100]+d2[0:100]"
   ]
  },
  {
   "cell_type": "code",
   "execution_count": null,
   "id": "59f1a37e",
   "metadata": {},
   "outputs": [],
   "source": [
    "weighted_avg=(d1+d2+d3+d4+d5)/np.sum(accuracy_list)"
   ]
  },
  {
   "cell_type": "code",
   "execution_count": null,
   "id": "f7b916a8",
   "metadata": {},
   "outputs": [],
   "source": [
    "y_test=pd.DataFrame(data=weighted_avg, columns=['party'])\n",
    "y_test['party']=y_test['party'].apply(lambda x: 'D' if x==0 else 'R')"
   ]
  },
  {
   "cell_type": "code",
   "execution_count": null,
   "id": "c05a4c64",
   "metadata": {},
   "outputs": [],
   "source": [
    "data_test= pd.read_csv(\"congressional_tweet_test_data.csv\",names=None)"
   ]
  },
  {
   "cell_type": "code",
   "execution_count": null,
   "id": "7fbde999",
   "metadata": {},
   "outputs": [],
   "source": [
    "Id=data_test['Id']"
   ]
  },
  {
   "cell_type": "code",
   "execution_count": null,
   "id": "f27cc051",
   "metadata": {},
   "outputs": [],
   "source": [
    "del data_test"
   ]
  },
  {
   "cell_type": "code",
   "execution_count": null,
   "id": "3f3adf02",
   "metadata": {},
   "outputs": [],
   "source": [
    "y_test.insert(0, \"Id\", Id)"
   ]
  },
  {
   "cell_type": "code",
   "execution_count": null,
   "id": "b3adc12d",
   "metadata": {},
   "outputs": [],
   "source": [
    "y_test.to_csv('weighted_avg.csv')"
   ]
  },
  {
   "cell_type": "markdown",
   "id": "158be6bc",
   "metadata": {},
   "source": [
    "## References\n",
    "\n",
    "[1] Caliskan, Cantay. DSCC 465: Introduction to Statistical Machine Learning, Spring 2022, University of Rochester, Rochester NY."
   ]
  },
  {
   "cell_type": "code",
   "execution_count": null,
   "id": "23d218d1",
   "metadata": {},
   "outputs": [],
   "source": []
  }
 ],
 "metadata": {
  "kernelspec": {
   "display_name": "Python 3 (ipykernel)",
   "language": "python",
   "name": "python3"
  },
  "language_info": {
   "codemirror_mode": {
    "name": "ipython",
    "version": 3
   },
   "file_extension": ".py",
   "mimetype": "text/x-python",
   "name": "python",
   "nbconvert_exporter": "python",
   "pygments_lexer": "ipython3",
   "version": "3.8.11"
  }
 },
 "nbformat": 4,
 "nbformat_minor": 5
}
